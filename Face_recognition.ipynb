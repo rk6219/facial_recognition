import face_recognition
import pyttsx3
# Load reference images and their corresponding names
reference_images = [
    r"C:\Users\lenovo\OneDrive\Desktop\New folder\CAS\r.jpg"]
reference_names = [
    "RamaKrishna"
]
# Initialize an empty list for reference encodings
reference_encodings = []
# Compute face encodings for reference images
for img_path in reference_images:
    img = face_recognition.load_image_file(img_path)
    encoding = face_recognition.face_encodings(img)[0]
    reference_encodings.append(encoding)
# Initialize the text-to-speech engine
engine = pyttsx3.init()
# Start DroidCam video feed
droidcam_url = 'http://192.168.0.102:4747/video'
cap = cv2.VideoCapture(1)
if not cap.isOpened():
    print("Failed to open the video feed.")
    exit()
while True:
    ret, frame = cap.read()
    if not ret:
        print("Failed to capture frame.")
        break
    # Find faces in the frame and compute face encodings
    face_locations = face_recognition.face_locations(frame)
    face_encodings = face_recognition.face_encodings(frame, face_locations)
    # Compare face encodings with reference encodings
    for encoding in face_encodings:
        matches = face_recognition.compare_faces(reference_encodings, encoding)
        name = 'Unknown'
        if True in matches:
            matched_index = matches.index(True)
            name = reference_names[matched_index]
        # Draw bounding box around the face
        for (top, right, bottom, left) in face_locations:
            cv2.rectangle(frame, (left, top), (right, bottom), (0, 255, 0), 2)
            cv2.putText(frame, name, (left, top - 10), cv2.FONT_HERSHEY_SIMPLEX, 0.9, (0, 255, 0), 2)
            # Generate voice of the person's name
            engine.say(name)
            engine.runAndWait()
    # Display the frame with bounding boxes and name labels
    cv2.imshow('DroidCam', frame)
    if cv2.waitKey(1) == ord('q'):
        break
# Release resources
cap.release()
cv2.destroyAllWindows()
