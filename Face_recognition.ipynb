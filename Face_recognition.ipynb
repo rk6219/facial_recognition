{
 "cells": [
  {
   "cell_type": "code",
   "execution_count": null,
   "id": "2ab82bfc-eafb-451a-a8aa-a68a5a6ca60a",
   "metadata": {},
   "outputs": [],
   "source": []
  }
 ],
 "metadata": {
  "kernelspec": {
   "display_name": "",
   "name": ""
  },
  "language_info": {
   "name": ""
  }
 },
 "nbformat": 4,
 "nbformat_minor": 5
}
